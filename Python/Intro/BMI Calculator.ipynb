{
 "cells": [
  {
   "cell_type": "markdown",
   "id": "70b3d19b-4f40-4e13-8900-5edfb815b5c8",
   "metadata": {},
   "source": [
    "# BMI Calculator"
   ]
  },
  {
   "cell_type": "code",
   "execution_count": 12,
   "id": "9b3a6118-8416-4f28-abc9-32912bb18c51",
   "metadata": {},
   "outputs": [
    {
     "name": "stdin",
     "output_type": "stream",
     "text": [
      "Enter your weight 220\n",
      "Enter your height inches 70\n"
     ]
    },
    {
     "name": "stdout",
     "output_type": "stream",
     "text": [
      "31.56326530612245 is your BMI\n"
     ]
    }
   ],
   "source": [
    "weight = input(\"Enter your weight\")\n",
    "\n",
    "height = input(\"Enter your height inches\")\n",
    "\n",
    "BMI = (int(weight) * 703)/(int(height) * int(height))\n",
    "\n",
    "print(f\"{BMI} is your BMI\")\n"
   ]
  },
  {
   "cell_type": "code",
   "execution_count": 13,
   "id": "792f0d8f-a8d1-464f-af9b-25932bfa45a7",
   "metadata": {},
   "outputs": [
    {
     "name": "stdout",
     "output_type": "stream",
     "text": [
      "You are Obese\n",
      "You are Severly Obese\n"
     ]
    }
   ],
   "source": [
    "if BMI > 0:\n",
    "    if(BMI < 18.5):\n",
    "        print('You are Underweight')\n",
    "    if(BMI < 24.9):\n",
    "        print('You are Normal Weight')\n",
    "    if(BMI < 29.9):\n",
    "        print('You are Overweight')\n",
    "    if(BMI < 34.9):\n",
    "        print('You are Obese')\n",
    "    if(BMI < 39.9):\n",
    "        print('You are Severly Obese')\n",
    "    if(BMI > 40):\n",
    "        print('You are Morbidly Obese')\n"
   ]
  },
  {
   "cell_type": "code",
   "execution_count": null,
   "id": "7bfef1da-7aed-46f3-9980-de3aea4cbe8c",
   "metadata": {},
   "outputs": [],
   "source": []
  },
  {
   "cell_type": "code",
   "execution_count": null,
   "id": "c7dd7065-c146-43df-ba2b-cee8f4cb80c7",
   "metadata": {},
   "outputs": [],
   "source": []
  },
  {
   "cell_type": "code",
   "execution_count": null,
   "id": "920dc371-5177-4864-8735-6fc58c979536",
   "metadata": {},
   "outputs": [],
   "source": []
  }
 ],
 "metadata": {
  "kernelspec": {
   "display_name": "Python 3 (ipykernel)",
   "language": "python",
   "name": "python3"
  },
  "language_info": {
   "codemirror_mode": {
    "name": "ipython",
    "version": 3
   },
   "file_extension": ".py",
   "mimetype": "text/x-python",
   "name": "python",
   "nbconvert_exporter": "python",
   "pygments_lexer": "ipython3",
   "version": "3.12.7"
  }
 },
 "nbformat": 4,
 "nbformat_minor": 5
}
