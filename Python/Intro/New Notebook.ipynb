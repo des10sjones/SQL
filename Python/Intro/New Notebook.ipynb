{
 "cells": [
  {
   "cell_type": "code",
   "execution_count": 1,
   "id": "e64c98ba-b837-421f-9df5-5fccffda0ddb",
   "metadata": {},
   "outputs": [
    {
     "name": "stdout",
     "output_type": "stream",
     "text": [
      "Hello, World\n"
     ]
    }
   ],
   "source": [
    "print(\"Hello, World\")"
   ]
  },
  {
   "cell_type": "markdown",
   "id": "26eb7152-bb9f-47cb-becc-465aabf6d2aa",
   "metadata": {},
   "source": [
    "# First Notebook"
   ]
  },
  {
   "cell_type": "code",
   "execution_count": null,
   "id": "a7a25efe-e8c6-4aee-97b7-32314c534f14",
   "metadata": {},
   "outputs": [],
   "source": [
    "# Camel Case\n",
    "\n",
    "#Test Varibale Case \n",
    "\n",
    "testVariableCase = ' Vannila Swirl'\n",
    "\n"
   ]
  },
  {
   "cell_type": "code",
   "execution_count": null,
   "id": "dcfea545-7c6f-4796-9e28-1ec7ee6ac470",
   "metadata": {},
   "outputs": [],
   "source": [
    "# Pascal Case\n",
    "\n",
    "#Test Varibale Case \n",
    "\n",
    "TestVariableCase = ' Vannila Swirl'"
   ]
  },
  {
   "cell_type": "code",
   "execution_count": null,
   "id": "4d4fa861-286f-4f82-b583-1131af3a9cf7",
   "metadata": {},
   "outputs": [],
   "source": [
    "# Snake Case\n",
    "\n",
    "#Test Varibale Case \n",
    "\n",
    "test_variable_case = ' Vannila Swirl'"
   ]
  },
  {
   "cell_type": "code",
   "execution_count": 1,
   "id": "697c377c-8a5e-46ff-a383-14fad6f45e7a",
   "metadata": {},
   "outputs": [
    {
     "name": "stdout",
     "output_type": "stream",
     "text": [
      "Ice Cream is my Favorite.\n"
     ]
    }
   ],
   "source": [
    "x = 'Ice Cream is my Favorite' + '.'\n",
    "print(x)"
   ]
  },
  {
   "cell_type": "code",
   "execution_count": 5,
   "id": "fb512396-8ccc-4573-99d7-024ccafaa8dc",
   "metadata": {},
   "outputs": [
    {
     "name": "stdout",
     "output_type": "stream",
     "text": [
      "Ice Cream is my favorite.\n"
     ]
    }
   ],
   "source": [
    "x = 'Ice Cream'\n",
    "y= ' is'\n",
    "z = ' my favorite.'\n",
    "print(x+y+z)\n"
   ]
  },
  {
   "cell_type": "code",
   "execution_count": 6,
   "id": "8213086a-a10c-44c3-8885-ba691293fe34",
   "metadata": {},
   "outputs": [
    {
     "name": "stdout",
     "output_type": "stream",
     "text": [
      "6\n"
     ]
    }
   ],
   "source": [
    "x = 1\n",
    "y= 2\n",
    "z = 3\n",
    "print(x+y+z)"
   ]
  },
  {
   "cell_type": "code",
   "execution_count": null,
   "id": "3122bd3a-d25e-4cb0-a856-eccab0b929b2",
   "metadata": {},
   "outputs": [],
   "source": []
  },
  {
   "cell_type": "code",
   "execution_count": null,
   "id": "7d4be82a-7524-40f4-9cfd-b669a5b4d951",
   "metadata": {},
   "outputs": [],
   "source": []
  },
  {
   "cell_type": "code",
   "execution_count": null,
   "id": "7ae96f30-bba4-4f09-a9b4-7c15a0155f95",
   "metadata": {},
   "outputs": [],
   "source": []
  },
  {
   "cell_type": "code",
   "execution_count": null,
   "id": "1557fd69-64cb-4b57-bc08-aa44410a565f",
   "metadata": {},
   "outputs": [],
   "source": []
  },
  {
   "cell_type": "code",
   "execution_count": null,
   "id": "54f5d0cc-3c41-4319-9207-cabf18e925d3",
   "metadata": {},
   "outputs": [],
   "source": []
  }
 ],
 "metadata": {
  "kernelspec": {
   "display_name": "Python 3 (ipykernel)",
   "language": "python",
   "name": "python3"
  },
  "language_info": {
   "codemirror_mode": {
    "name": "ipython",
    "version": 3
   },
   "file_extension": ".py",
   "mimetype": "text/x-python",
   "name": "python",
   "nbconvert_exporter": "python",
   "pygments_lexer": "ipython3",
   "version": "3.12.7"
  }
 },
 "nbformat": 4,
 "nbformat_minor": 5
}
