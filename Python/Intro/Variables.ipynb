{
 "cells": [
  {
   "cell_type": "markdown",
   "id": "28e56bd9-8fbe-41a4-a13c-423697d7b43f",
   "metadata": {},
   "source": [
    "# Variables In Python\n"
   ]
  },
  {
   "cell_type": "code",
   "execution_count": 3,
   "id": "6dd44d90-2dd8-46dc-a352-5fc8b2875b72",
   "metadata": {},
   "outputs": [
    {
     "name": "stdout",
     "output_type": "stream",
     "text": [
      "22\n"
     ]
    }
   ],
   "source": [
    "x = 22\n",
    "\n",
    "print(x)\n"
   ]
  },
  {
   "cell_type": "code",
   "execution_count": 4,
   "id": "24e4ec2a-13b0-45ec-b6db-5f9868197db7",
   "metadata": {},
   "outputs": [
    {
     "data": {
      "text/plain": [
       "int"
      ]
     },
     "execution_count": 4,
     "metadata": {},
     "output_type": "execute_result"
    }
   ],
   "source": [
    "type(x)\n",
    "\n"
   ]
  },
  {
   "cell_type": "code",
   "execution_count": 6,
   "id": "0363941b-b178-4564-acab-e74c9dde653a",
   "metadata": {},
   "outputs": [
    {
     "name": "stdout",
     "output_type": "stream",
     "text": [
      "Mint Chocolate Chip\n"
     ]
    },
    {
     "data": {
      "text/plain": [
       "str"
      ]
     },
     "execution_count": 6,
     "metadata": {},
     "output_type": "execute_result"
    }
   ],
   "source": [
    "y = \"Mint Chocolate Chip\"\n",
    "\n",
    "print(y)\n",
    "type(y)"
   ]
  },
  {
   "cell_type": "code",
   "execution_count": 7,
   "id": "e7dab470-b3c1-4052-9b7f-267b9a1a2948",
   "metadata": {},
   "outputs": [
    {
     "name": "stdout",
     "output_type": "stream",
     "text": [
      "Chocolate\n",
      "Vanilla\n",
      "rocky road\n"
     ]
    }
   ],
   "source": [
    "x,y,z = 'Chocolate','Vanilla','rocky road'\n",
    "print(x)\n",
    "print(y)\n",
    "print(z)\n"
   ]
  },
  {
   "cell_type": "code",
   "execution_count": 9,
   "id": "ad938787-b024-4190-9e0b-91e620ada536",
   "metadata": {},
   "outputs": [],
   "source": [
    "ice_cream = ['Chocolate','Vanilla','Rocky Road']"
   ]
  },
  {
   "cell_type": "code",
   "execution_count": 10,
   "id": "11a8bf83-3c76-4ee9-860a-555b9b397444",
   "metadata": {},
   "outputs": [
    {
     "name": "stdout",
     "output_type": "stream",
     "text": [
      "['Chocolate', 'Vanilla', 'Rocky Road']\n"
     ]
    }
   ],
   "source": [
    "print(ice_cream)"
   ]
  },
  {
   "cell_type": "code",
   "execution_count": null,
   "id": "50a63e33-96a0-4d6f-84bc-a9fe12d05a0d",
   "metadata": {},
   "outputs": [],
   "source": []
  }
 ],
 "metadata": {
  "kernelspec": {
   "display_name": "Python 3 (ipykernel)",
   "language": "python",
   "name": "python3"
  },
  "language_info": {
   "codemirror_mode": {
    "name": "ipython",
    "version": 3
   },
   "file_extension": ".py",
   "mimetype": "text/x-python",
   "name": "python",
   "nbconvert_exporter": "python",
   "pygments_lexer": "ipython3",
   "version": "3.12.7"
  }
 },
 "nbformat": 4,
 "nbformat_minor": 5
}
