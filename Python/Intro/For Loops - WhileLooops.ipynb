{
 "cells": [
  {
   "cell_type": "markdown",
   "id": "7566cc80-0084-4a24-b293-24594f4d40c2",
   "metadata": {},
   "source": [
    "# For Loops - While Loops \n"
   ]
  },
  {
   "cell_type": "code",
   "execution_count": 1,
   "id": "2a3526f1-9a69-46b8-b7c6-d5eec4968cbd",
   "metadata": {},
   "outputs": [],
   "source": [
    "integers = [1,2,3,4,5]"
   ]
  },
  {
   "cell_type": "code",
   "execution_count": 2,
   "id": "39f3140f-5362-46dd-8984-e4d4a3f5fd36",
   "metadata": {},
   "outputs": [
    {
     "name": "stdout",
     "output_type": "stream",
     "text": [
      "1\n",
      "2\n",
      "3\n",
      "4\n",
      "5\n"
     ]
    }
   ],
   "source": [
    "for number in integers:\n",
    "    print(number)"
   ]
  },
  {
   "cell_type": "code",
   "execution_count": null,
   "id": "b4ef89df-5bd2-44b4-9d03-0c95a8d7747c",
   "metadata": {},
   "outputs": [],
   "source": [
    "integers = [1,2,3,4,5]"
   ]
  },
  {
   "cell_type": "code",
   "execution_count": null,
   "id": "78a97366-c7cc-423c-a969-8fa180b97d3b",
   "metadata": {},
   "outputs": [],
   "source": [
    "for number in integers:\n",
    "    print(number)"
   ]
  },
  {
   "cell_type": "code",
   "execution_count": 6,
   "id": "8feca354-753c-4949-a221-bbf3119ad4bb",
   "metadata": {},
   "outputs": [],
   "source": [
    "ice_dict = {\n",
    "    'name': 'Destin Jones','Weekly intake':5, 'Favorite Ice cream': ['Chocolate','Vanilla']\n",
    "}"
   ]
  },
  {
   "cell_type": "code",
   "execution_count": 5,
   "id": "a4c0c76d-73f4-4822-b6cf-b4bc30d9c47f",
   "metadata": {},
   "outputs": [
    {
     "name": "stdout",
     "output_type": "stream",
     "text": [
      " Destin Jones\n",
      "5\n",
      "['Chocolate', 'Vanilla']\n"
     ]
    }
   ],
   "source": [
    "for cream in ice_dict.values():\n",
    "    print(cream)\n",
    "    "
   ]
  },
  {
   "cell_type": "code",
   "execution_count": 8,
   "id": "82b45882-9e21-48db-a515-168dc0ea8d58",
   "metadata": {},
   "outputs": [
    {
     "name": "stdout",
     "output_type": "stream",
     "text": [
      "name -> Destin Jones\n",
      "Weekly intake -> 5\n",
      "Favorite Ice cream -> ['Chocolate', 'Vanilla']\n"
     ]
    }
   ],
   "source": [
    "for key, value in ice_dict.items():\n",
    "    print(key,'->',value)"
   ]
  },
  {
   "cell_type": "markdown",
   "id": "8bda1d56-c7b3-4485-983c-c89b6856fd82",
   "metadata": {},
   "source": [
    "# Nested For Loops"
   ]
  },
  {
   "cell_type": "code",
   "execution_count": 9,
   "id": "e8882906-03f8-45aa-a626-48e15fd71faa",
   "metadata": {},
   "outputs": [],
   "source": [
    "flavors = ['Vanailla', 'Chocolate','Milk Toast']\n",
    "toppings = ['Hot Sauce','Oreos','Whipped Cream']"
   ]
  },
  {
   "cell_type": "code",
   "execution_count": 14,
   "id": "704da285-294f-4df5-82a5-ed4cb963de24",
   "metadata": {},
   "outputs": [
    {
     "name": "stdout",
     "output_type": "stream",
     "text": [
      "Vanailla Topped with  Hot Sauce\n",
      "Vanailla Topped with  Oreos\n",
      "Vanailla Topped with  Whipped Cream\n",
      "Chocolate Topped with  Hot Sauce\n",
      "Chocolate Topped with  Oreos\n",
      "Chocolate Topped with  Whipped Cream\n",
      "Milk Toast Topped with  Hot Sauce\n",
      "Milk Toast Topped with  Oreos\n",
      "Milk Toast Topped with  Whipped Cream\n"
     ]
    }
   ],
   "source": [
    "for one in flavors:\n",
    "    for two in toppings:\n",
    "        print(one,'Topped with ',two)"
   ]
  },
  {
   "cell_type": "code",
   "execution_count": null,
   "id": "575fd2b7-7c9c-404c-a323-568dcca83dbe",
   "metadata": {},
   "outputs": [],
   "source": []
  }
 ],
 "metadata": {
  "kernelspec": {
   "display_name": "Python 3 (ipykernel)",
   "language": "python",
   "name": "python3"
  },
  "language_info": {
   "codemirror_mode": {
    "name": "ipython",
    "version": 3
   },
   "file_extension": ".py",
   "mimetype": "text/x-python",
   "name": "python",
   "nbconvert_exporter": "python",
   "pygments_lexer": "ipython3",
   "version": "3.12.7"
  }
 },
 "nbformat": 4,
 "nbformat_minor": 5
}
