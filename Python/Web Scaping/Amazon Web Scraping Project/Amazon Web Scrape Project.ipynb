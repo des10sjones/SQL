{
 "cells": [
  {
   "cell_type": "markdown",
   "id": "99690e1f-d2d6-4dec-a91e-d215327c7f4b",
   "metadata": {},
   "source": [
    "# Amazon Web Scrape"
   ]
  },
  {
   "cell_type": "code",
   "execution_count": 1,
   "id": "3ffa58c7-bfc6-43cd-9a0a-70776f376554",
   "metadata": {},
   "outputs": [],
   "source": [
    "#import libraies\n",
    "\n",
    "import pandas as pd\n",
    "import requests\n",
    "import smtplib\n",
    "import time\n",
    "import datetime\n",
    "from bs4 import BeautifulSoup\n"
   ]
  },
  {
   "cell_type": "code",
   "execution_count": null,
   "id": "becfac2f-f2cd-4e2b-a7ff-149b6b6ec732",
   "metadata": {},
   "outputs": [],
   "source": [
    "URL = \"https://www.amazon.com/Adapter-10Gbps-Female-Converter-MacBook/dp/B0B1V91QHD/\"\n",
    "\n",
    "headers = {\n",
    "    \"User-Agent\": \"Mozilla/5.0 (Windows NT 10.0; Win64; x64) AppleWebKit/537.36 (KHTML, like Gecko) Chrome/133.0.0.0 Safari/537.36 Edg/133.0.0.0\",\n",
    "    \"Accept-Language\": \"en-US,en;q=0.9\",\n",
    "}\n",
    "\n",
    "response = requests.get(URL, headers=headers)\n",
    "print(\"Status Code:\", response.status_code)\n",
    "\n",
    "if response.status_code == 200:\n",
    "    soup1 = BeautifulSoup(response.content, \"html.parser\")\n",
    "    print(soup1.prettify())  # Print the structured HTML\n",
    "else:\n",
    "    print(\"Failed to retrieve the page. Amazon might be blocking the request.\")\n"
   ]
  },
  {
   "cell_type": "code",
   "execution_count": 8,
   "id": "f67e0ef8-b3bc-4e9f-98ba-e1ba0e0a9d93",
   "metadata": {},
   "outputs": [
    {
     "name": "stdout",
     "output_type": "stream",
     "text": [
      "\n",
      "             USB C to USB Adapter 3.1 Gen 2, 10Gbps USB to USB C Adapter, USB-C Male to USB 3.0 A Female USB 3.2 Type C OTG Converter for MacBook pro Laptop PC iMac iPad air\n",
      "            \n",
      "$3.99\n"
     ]
    }
   ],
   "source": [
    "\n",
    "\n",
    "soup2 = BeautifulSoup(soup1.prettify(), \"html.parser\")\n",
    "\n",
    "\n",
    "title = soup2.find(id=\"productTitle\").get_text()\n",
    "\n",
    "price_whole = soup1.find(\"span\", class_=\"a-price-whole\").get_text()\n",
    "\n",
    "price_fraction = soup1.find(\"span\", class_=\"a-price-fraction\").get_text()\n",
    "print(title)\n",
    "\n",
    "price = (f\"${price_whole}{price_fraction}\")\n",
    "print(price)\n"
   ]
  },
  {
   "cell_type": "code",
   "execution_count": 9,
   "id": "c0734e52-1549-44e4-acb3-0fc11e44fea2",
   "metadata": {},
   "outputs": [
    {
     "name": "stdout",
     "output_type": "stream",
     "text": [
      "USB C to USB Adapter 3.1 Gen 2, 10Gbps USB to USB C Adapter, USB-C Male to USB 3.0 A Female USB 3.2 Type C OTG Converter for MacBook pro Laptop PC iMac iPad air\n",
      "3.99\n"
     ]
    }
   ],
   "source": [
    "price = price.strip()[1:]\n",
    "title = title.strip()\n",
    "print(title)\n",
    "print(price)"
   ]
  },
  {
   "cell_type": "code",
   "execution_count": 10,
   "id": "ddc42b60-596a-43e3-b205-7c4219b9e56e",
   "metadata": {},
   "outputs": [
    {
     "name": "stdout",
     "output_type": "stream",
     "text": [
      "2025-03-05\n"
     ]
    }
   ],
   "source": [
    "today = datetime.date.today()\n",
    "print(today)"
   ]
  },
  {
   "cell_type": "code",
   "execution_count": 11,
   "id": "ade26592-0834-45b2-b592-b38b69e2e48f",
   "metadata": {},
   "outputs": [],
   "source": [
    "import csv \n",
    "\n",
    "header =['Title','Price','Date']\n",
    "data = [title,price,today]\n",
    "\n",
    "with open(\"AmazonWebScaperDataset.csv\",\"w\", newline=\"\", encoding='UTF8') as f:\n",
    "    writer = csv.writer(f)\n",
    "    writer.writerow(header)\n",
    "    writer.writerow(data)\n"
   ]
  },
  {
   "cell_type": "code",
   "execution_count": 17,
   "id": "3ff32a9a-dcad-4951-a297-9038eab923bc",
   "metadata": {},
   "outputs": [
    {
     "data": {
      "text/html": [
       "<div>\n",
       "<style scoped>\n",
       "    .dataframe tbody tr th:only-of-type {\n",
       "        vertical-align: middle;\n",
       "    }\n",
       "\n",
       "    .dataframe tbody tr th {\n",
       "        vertical-align: top;\n",
       "    }\n",
       "\n",
       "    .dataframe thead th {\n",
       "        text-align: right;\n",
       "    }\n",
       "</style>\n",
       "<table border=\"1\" class=\"dataframe\">\n",
       "  <thead>\n",
       "    <tr style=\"text-align: right;\">\n",
       "      <th></th>\n",
       "      <th>Title</th>\n",
       "      <th>Price</th>\n",
       "      <th>Date</th>\n",
       "    </tr>\n",
       "  </thead>\n",
       "  <tbody>\n",
       "    <tr>\n",
       "      <th>0</th>\n",
       "      <td>USB C to USB Adapter 3.1 Gen 2, 10Gbps USB to ...</td>\n",
       "      <td>3.99</td>\n",
       "      <td>2025-03-05</td>\n",
       "    </tr>\n",
       "    <tr>\n",
       "      <th>1</th>\n",
       "      <td>USB C to USB Adapter 3.1 Gen 2, 10Gbps USB to ...</td>\n",
       "      <td>3.99</td>\n",
       "      <td>2025-03-05</td>\n",
       "    </tr>\n",
       "    <tr>\n",
       "      <th>2</th>\n",
       "      <td>USB C to USB Adapter 3.1 Gen 2, 10Gbps USB to ...</td>\n",
       "      <td>3.99</td>\n",
       "      <td>2025-03-05</td>\n",
       "    </tr>\n",
       "    <tr>\n",
       "      <th>3</th>\n",
       "      <td>USB C to USB Adapter 3.1 Gen 2, 10Gbps USB to ...</td>\n",
       "      <td>3.99</td>\n",
       "      <td>2025-03-05</td>\n",
       "    </tr>\n",
       "    <tr>\n",
       "      <th>4</th>\n",
       "      <td>USB C to USB Adapter 3.1 Gen 2, 10Gbps USB to ...</td>\n",
       "      <td>3.99</td>\n",
       "      <td>2025-03-05</td>\n",
       "    </tr>\n",
       "  </tbody>\n",
       "</table>\n",
       "</div>"
      ],
      "text/plain": [
       "                                               Title  Price        Date\n",
       "0  USB C to USB Adapter 3.1 Gen 2, 10Gbps USB to ...   3.99  2025-03-05\n",
       "1  USB C to USB Adapter 3.1 Gen 2, 10Gbps USB to ...   3.99  2025-03-05\n",
       "2  USB C to USB Adapter 3.1 Gen 2, 10Gbps USB to ...   3.99  2025-03-05\n",
       "3  USB C to USB Adapter 3.1 Gen 2, 10Gbps USB to ...   3.99  2025-03-05\n",
       "4  USB C to USB Adapter 3.1 Gen 2, 10Gbps USB to ...   3.99  2025-03-05"
      ]
     },
     "execution_count": 17,
     "metadata": {},
     "output_type": "execute_result"
    }
   ],
   "source": [
    "\n",
    "\n",
    "df = pd.read_csv(r\"/Users/destinjones/Desktop/SQL/Python/Web Scaping/Amazon Web Scraping Project/AmazonWebScaperDataset.csv\")\n",
    "df"
   ]
  },
  {
   "cell_type": "code",
   "execution_count": 16,
   "id": "8b694567-6c5c-4174-bf96-1dd32ca8eb35",
   "metadata": {},
   "outputs": [],
   "source": [
    "#Appending \n",
    "with open(\"AmazonWebScaperDataset.csv\",\"a+\", newline=\"\", encoding='UTF8') as f:\n",
    "    writer = csv.writer(f)\n",
    "    writer.writerow(data)"
   ]
  },
  {
   "cell_type": "code",
   "execution_count": 34,
   "id": "3e6641e8-d682-489b-842a-4b0ba66bc10c",
   "metadata": {},
   "outputs": [],
   "source": [
    "def check_price():\n",
    "    URL = \"https://www.amazon.com/Adapter-10Gbps-Female-Converter-MacBook/dp/B0B1V91QHD/\"\n",
    "\n",
    "    headers = {\n",
    "        \"User-Agent\": \"Mozilla/5.0 (Windows NT 10.0; Win64; x64) AppleWebKit/537.36 (KHTML, like Gecko) Chrome/133.0.0.0 Safari/537.36 Edg/133.0.0.0\",\n",
    "        \"Accept-Language\": \"en-US,en;q=0.9\",\n",
    "    }\n",
    "    \n",
    "    response = requests.get(URL, headers=headers)\n",
    "    #print(\"Status Code:\", response.status_code)\n",
    "\n",
    "    soup1 = BeautifulSoup(response.content, \"html.parser\")\n",
    "    soup2 = BeautifulSoup(soup1.prettify(), \"html.parser\")\n",
    "\n",
    "\n",
    "    title = soup2.find(id=\"productTitle\").get_text()\n",
    "    \n",
    "    price_whole = soup1.find(\"span\", class_=\"a-price-whole\").get_text()\n",
    "    \n",
    "    price_fraction = soup1.find(\"span\", class_=\"a-price-fraction\").get_text()\n",
    "    #print(title)\n",
    "    \n",
    "    price = (f\"${price_whole}{price_fraction}\")\n",
    "    #print(price)\n",
    "\n",
    "    price = price.strip()[1:]\n",
    "    title = title.strip()\n",
    "    today = datetime.date.today()\n",
    "\n",
    "    header =['Title','Price','Date']\n",
    "    data = [title,price,today]\n",
    "    \n",
    "    with open(\"AmazonWebScaperDataset.csv\",\"a+\", newline=\"\", encoding='UTF8') as f:\n",
    "        writer = csv.writer(f)\n",
    "        writer.writerow(data)\n",
    "\n",
    "    if float(price)<14:\n",
    "        send_mail()"
   ]
  },
  {
   "cell_type": "code",
   "execution_count": 35,
   "id": "8a796ef6-5d5a-4a25-9ad3-795bd2878cb1",
   "metadata": {
    "scrolled": true
   },
   "outputs": [
    {
     "ename": "KeyboardInterrupt",
     "evalue": "",
     "output_type": "error",
     "traceback": [
      "\u001b[0;31m---------------------------------------------------------------------------\u001b[0m",
      "\u001b[0;31mKeyboardInterrupt\u001b[0m                         Traceback (most recent call last)",
      "Cell \u001b[0;32mIn[35], line 3\u001b[0m\n\u001b[1;32m      1\u001b[0m \u001b[38;5;28;01mwhile\u001b[39;00m(\u001b[38;5;28;01mTrue\u001b[39;00m):\n\u001b[1;32m      2\u001b[0m     check_price()\n\u001b[0;32m----> 3\u001b[0m     \u001b[43mtime\u001b[49m\u001b[38;5;241;43m.\u001b[39;49m\u001b[43msleep\u001b[49m\u001b[43m(\u001b[49m\u001b[38;5;241;43m5\u001b[39;49m\u001b[43m)\u001b[49m\n",
      "\u001b[0;31mKeyboardInterrupt\u001b[0m: "
     ]
    }
   ],
   "source": [
    "while(True):\n",
    "    check_price()\n",
    "    time.sleep(5)\n",
    "    "
   ]
  },
  {
   "cell_type": "code",
   "execution_count": 36,
   "id": "d3932ecb-b523-40ec-9247-8ff1059fcc3e",
   "metadata": {},
   "outputs": [
    {
     "data": {
      "text/html": [
       "<div>\n",
       "<style scoped>\n",
       "    .dataframe tbody tr th:only-of-type {\n",
       "        vertical-align: middle;\n",
       "    }\n",
       "\n",
       "    .dataframe tbody tr th {\n",
       "        vertical-align: top;\n",
       "    }\n",
       "\n",
       "    .dataframe thead th {\n",
       "        text-align: right;\n",
       "    }\n",
       "</style>\n",
       "<table border=\"1\" class=\"dataframe\">\n",
       "  <thead>\n",
       "    <tr style=\"text-align: right;\">\n",
       "      <th></th>\n",
       "      <th>Title</th>\n",
       "      <th>Price</th>\n",
       "      <th>Date</th>\n",
       "    </tr>\n",
       "  </thead>\n",
       "  <tbody>\n",
       "    <tr>\n",
       "      <th>0</th>\n",
       "      <td>USB C to USB Adapter 3.1 Gen 2, 10Gbps USB to ...</td>\n",
       "      <td>3.99</td>\n",
       "      <td>2025-03-05</td>\n",
       "    </tr>\n",
       "    <tr>\n",
       "      <th>1</th>\n",
       "      <td>USB C to USB Adapter 3.1 Gen 2, 10Gbps USB to ...</td>\n",
       "      <td>3.99</td>\n",
       "      <td>2025-03-05</td>\n",
       "    </tr>\n",
       "    <tr>\n",
       "      <th>2</th>\n",
       "      <td>USB C to USB Adapter 3.1 Gen 2, 10Gbps USB to ...</td>\n",
       "      <td>3.99</td>\n",
       "      <td>2025-03-05</td>\n",
       "    </tr>\n",
       "    <tr>\n",
       "      <th>3</th>\n",
       "      <td>USB C to USB Adapter 3.1 Gen 2, 10Gbps USB to ...</td>\n",
       "      <td>3.99</td>\n",
       "      <td>2025-03-05</td>\n",
       "    </tr>\n",
       "    <tr>\n",
       "      <th>4</th>\n",
       "      <td>USB C to USB Adapter 3.1 Gen 2, 10Gbps USB to ...</td>\n",
       "      <td>3.99</td>\n",
       "      <td>2025-03-05</td>\n",
       "    </tr>\n",
       "    <tr>\n",
       "      <th>5</th>\n",
       "      <td>USB C to USB Adapter 3.1 Gen 2, 10Gbps USB to ...</td>\n",
       "      <td>3.99</td>\n",
       "      <td>2025-03-05</td>\n",
       "    </tr>\n",
       "    <tr>\n",
       "      <th>6</th>\n",
       "      <td>USB C to USB Adapter 3.1 Gen 2, 10Gbps USB to ...</td>\n",
       "      <td>3.99</td>\n",
       "      <td>2025-03-05</td>\n",
       "    </tr>\n",
       "    <tr>\n",
       "      <th>7</th>\n",
       "      <td>USB C to USB Adapter 3.1 Gen 2, 10Gbps USB to ...</td>\n",
       "      <td>3.99</td>\n",
       "      <td>2025-03-05</td>\n",
       "    </tr>\n",
       "    <tr>\n",
       "      <th>8</th>\n",
       "      <td>USB C to USB Adapter 3.1 Gen 2, 10Gbps USB to ...</td>\n",
       "      <td>3.99</td>\n",
       "      <td>2025-03-05</td>\n",
       "    </tr>\n",
       "    <tr>\n",
       "      <th>9</th>\n",
       "      <td>USB C to USB Adapter 3.1 Gen 2, 10Gbps USB to ...</td>\n",
       "      <td>3.99</td>\n",
       "      <td>2025-03-05</td>\n",
       "    </tr>\n",
       "    <tr>\n",
       "      <th>10</th>\n",
       "      <td>USB C to USB Adapter 3.1 Gen 2, 10Gbps USB to ...</td>\n",
       "      <td>3.99</td>\n",
       "      <td>2025-03-05</td>\n",
       "    </tr>\n",
       "    <tr>\n",
       "      <th>11</th>\n",
       "      <td>USB C to USB Adapter 3.1 Gen 2, 10Gbps USB to ...</td>\n",
       "      <td>3.99</td>\n",
       "      <td>2025-03-05</td>\n",
       "    </tr>\n",
       "    <tr>\n",
       "      <th>12</th>\n",
       "      <td>USB C to USB Adapter 3.1 Gen 2, 10Gbps USB to ...</td>\n",
       "      <td>3.99</td>\n",
       "      <td>2025-03-05</td>\n",
       "    </tr>\n",
       "    <tr>\n",
       "      <th>13</th>\n",
       "      <td>USB C to USB Adapter 3.1 Gen 2, 10Gbps USB to ...</td>\n",
       "      <td>3.99</td>\n",
       "      <td>2025-03-05</td>\n",
       "    </tr>\n",
       "    <tr>\n",
       "      <th>14</th>\n",
       "      <td>USB C to USB Adapter 3.1 Gen 2, 10Gbps USB to ...</td>\n",
       "      <td>3.99</td>\n",
       "      <td>2025-03-05</td>\n",
       "    </tr>\n",
       "    <tr>\n",
       "      <th>15</th>\n",
       "      <td>USB C to USB Adapter 3.1 Gen 2, 10Gbps USB to ...</td>\n",
       "      <td>3.99</td>\n",
       "      <td>2025-03-05</td>\n",
       "    </tr>\n",
       "    <tr>\n",
       "      <th>16</th>\n",
       "      <td>USB C to USB Adapter 3.1 Gen 2, 10Gbps USB to ...</td>\n",
       "      <td>3.99</td>\n",
       "      <td>2025-03-05</td>\n",
       "    </tr>\n",
       "    <tr>\n",
       "      <th>17</th>\n",
       "      <td>USB C to USB Adapter 3.1 Gen 2, 10Gbps USB to ...</td>\n",
       "      <td>3.99</td>\n",
       "      <td>2025-03-05</td>\n",
       "    </tr>\n",
       "  </tbody>\n",
       "</table>\n",
       "</div>"
      ],
      "text/plain": [
       "                                                Title  Price        Date\n",
       "0   USB C to USB Adapter 3.1 Gen 2, 10Gbps USB to ...   3.99  2025-03-05\n",
       "1   USB C to USB Adapter 3.1 Gen 2, 10Gbps USB to ...   3.99  2025-03-05\n",
       "2   USB C to USB Adapter 3.1 Gen 2, 10Gbps USB to ...   3.99  2025-03-05\n",
       "3   USB C to USB Adapter 3.1 Gen 2, 10Gbps USB to ...   3.99  2025-03-05\n",
       "4   USB C to USB Adapter 3.1 Gen 2, 10Gbps USB to ...   3.99  2025-03-05\n",
       "5   USB C to USB Adapter 3.1 Gen 2, 10Gbps USB to ...   3.99  2025-03-05\n",
       "6   USB C to USB Adapter 3.1 Gen 2, 10Gbps USB to ...   3.99  2025-03-05\n",
       "7   USB C to USB Adapter 3.1 Gen 2, 10Gbps USB to ...   3.99  2025-03-05\n",
       "8   USB C to USB Adapter 3.1 Gen 2, 10Gbps USB to ...   3.99  2025-03-05\n",
       "9   USB C to USB Adapter 3.1 Gen 2, 10Gbps USB to ...   3.99  2025-03-05\n",
       "10  USB C to USB Adapter 3.1 Gen 2, 10Gbps USB to ...   3.99  2025-03-05\n",
       "11  USB C to USB Adapter 3.1 Gen 2, 10Gbps USB to ...   3.99  2025-03-05\n",
       "12  USB C to USB Adapter 3.1 Gen 2, 10Gbps USB to ...   3.99  2025-03-05\n",
       "13  USB C to USB Adapter 3.1 Gen 2, 10Gbps USB to ...   3.99  2025-03-05\n",
       "14  USB C to USB Adapter 3.1 Gen 2, 10Gbps USB to ...   3.99  2025-03-05\n",
       "15  USB C to USB Adapter 3.1 Gen 2, 10Gbps USB to ...   3.99  2025-03-05\n",
       "16  USB C to USB Adapter 3.1 Gen 2, 10Gbps USB to ...   3.99  2025-03-05\n",
       "17  USB C to USB Adapter 3.1 Gen 2, 10Gbps USB to ...   3.99  2025-03-05"
      ]
     },
     "execution_count": 36,
     "metadata": {},
     "output_type": "execute_result"
    }
   ],
   "source": [
    "df = pd.read_csv(r\"/Users/destinjones/Desktop/SQL/Python/Web Scaping/Amazon Web Scraping Project/AmazonWebScaperDataset.csv\")\n",
    "df"
   ]
  },
  {
   "cell_type": "code",
   "execution_count": 37,
   "id": "9b8233d1-6032-47c3-8a1b-b8c4de83e0b1",
   "metadata": {},
   "outputs": [],
   "source": [
    "def send_mail():\n",
    "    server = smtplib.SMTP_SSL('smtp.gmail.com',465)\n",
    "    server.ehlo()\n",
    "    #server.starttls()\n",
    "    server.ehlo()\n",
    "    server.login('mr.supersplash@gmail.com','xxxxxxxxxxxx')\n",
    "\n",
    "    subject = \"The item you want is below $14! Now is your chance!!\"\n",
    "    body = \"Destin, Now is the time you have been waiting! Act Quickly\"\n",
    "\n",
    "    msg = f\"{subject}\\n\\n{body}\"\n",
    "\n",
    "    server.sendmail('mr.supersplash@gmail.com','dsjjones01@gmail.com',msg)\n",
    "    "
   ]
  },
  {
   "cell_type": "code",
   "execution_count": null,
   "id": "da1895ac-13a8-4265-9305-f35a0e1522e8",
   "metadata": {},
   "outputs": [],
   "source": []
  },
  {
   "cell_type": "code",
   "execution_count": null,
   "id": "f7142835-aaf7-42e0-b452-5862559c2292",
   "metadata": {},
   "outputs": [],
   "source": []
  },
  {
   "cell_type": "code",
   "execution_count": null,
   "id": "63fdfdca-8889-42c1-88cd-c8a4a3ed3e5d",
   "metadata": {},
   "outputs": [],
   "source": []
  },
  {
   "cell_type": "code",
   "execution_count": null,
   "id": "5f133777-99d4-482b-8e61-9c084ead3197",
   "metadata": {},
   "outputs": [],
   "source": []
  },
  {
   "cell_type": "code",
   "execution_count": null,
   "id": "8746fe77-d393-475d-ba0b-e15a02af77d5",
   "metadata": {},
   "outputs": [],
   "source": []
  },
  {
   "cell_type": "code",
   "execution_count": null,
   "id": "e45be82c-a900-44aa-9348-dc53a29c06a8",
   "metadata": {},
   "outputs": [],
   "source": []
  },
  {
   "cell_type": "code",
   "execution_count": null,
   "id": "b6e28991-d764-48ac-92d5-9f8369e10877",
   "metadata": {},
   "outputs": [],
   "source": []
  },
  {
   "cell_type": "code",
   "execution_count": null,
   "id": "eea8b533-c81a-470b-803d-93fd32b5d62c",
   "metadata": {},
   "outputs": [],
   "source": []
  },
  {
   "cell_type": "code",
   "execution_count": null,
   "id": "bad79fcf-a78c-42fb-9fbc-2a9054c2d0bc",
   "metadata": {},
   "outputs": [],
   "source": []
  },
  {
   "cell_type": "code",
   "execution_count": null,
   "id": "2a52aee1-b86f-4420-89d4-ce0b270a42b6",
   "metadata": {},
   "outputs": [],
   "source": []
  },
  {
   "cell_type": "code",
   "execution_count": null,
   "id": "57def401-013a-4480-a2ef-52da08800d7e",
   "metadata": {},
   "outputs": [],
   "source": []
  },
  {
   "cell_type": "code",
   "execution_count": null,
   "id": "22b6e7a1-2938-4415-9c7e-d249cdd7053a",
   "metadata": {},
   "outputs": [],
   "source": []
  },
  {
   "cell_type": "code",
   "execution_count": null,
   "id": "7b712555-72f5-44d2-bb4b-1286a7e58353",
   "metadata": {},
   "outputs": [],
   "source": []
  },
  {
   "cell_type": "code",
   "execution_count": null,
   "id": "92710d80-237b-46a7-a342-f435997ccde6",
   "metadata": {},
   "outputs": [],
   "source": []
  },
  {
   "cell_type": "code",
   "execution_count": null,
   "id": "25350301-3f6f-46cb-bb76-c93de67af31f",
   "metadata": {},
   "outputs": [],
   "source": []
  },
  {
   "cell_type": "code",
   "execution_count": null,
   "id": "33958a47-5ced-43ae-97eb-a3a205dd1a99",
   "metadata": {},
   "outputs": [],
   "source": []
  },
  {
   "cell_type": "code",
   "execution_count": null,
   "id": "c220dd43-e8dc-49e3-9bc7-2a002b2202e4",
   "metadata": {},
   "outputs": [],
   "source": []
  },
  {
   "cell_type": "code",
   "execution_count": null,
   "id": "44e22aaf-1cec-489b-b90f-d01cadf0eaa0",
   "metadata": {},
   "outputs": [],
   "source": []
  },
  {
   "cell_type": "code",
   "execution_count": null,
   "id": "6406da79-43e9-4411-9671-cba75bcdb2b1",
   "metadata": {},
   "outputs": [],
   "source": []
  },
  {
   "cell_type": "code",
   "execution_count": null,
   "id": "a8515e41-c1c5-4e07-869f-8e139c7537a1",
   "metadata": {},
   "outputs": [],
   "source": []
  },
  {
   "cell_type": "code",
   "execution_count": null,
   "id": "8155ae21-3bb3-4221-8660-47a0be646a5e",
   "metadata": {},
   "outputs": [],
   "source": []
  },
  {
   "cell_type": "code",
   "execution_count": null,
   "id": "030b1501-7697-4db2-9ebd-60f7a5a13ebc",
   "metadata": {},
   "outputs": [],
   "source": []
  },
  {
   "cell_type": "code",
   "execution_count": null,
   "id": "69084f46-0dc5-462c-9915-58b7ad9c4a33",
   "metadata": {},
   "outputs": [],
   "source": []
  },
  {
   "cell_type": "code",
   "execution_count": null,
   "id": "c76e2198-9b02-433a-8e08-50f9bf01fcd9",
   "metadata": {},
   "outputs": [],
   "source": []
  },
  {
   "cell_type": "code",
   "execution_count": null,
   "id": "bb876ff5-f068-44d0-b51d-1cc068ac7778",
   "metadata": {},
   "outputs": [],
   "source": []
  },
  {
   "cell_type": "code",
   "execution_count": null,
   "id": "746ff117-9d26-4bf2-b6c2-7d70a2e2459f",
   "metadata": {},
   "outputs": [],
   "source": []
  },
  {
   "cell_type": "code",
   "execution_count": null,
   "id": "8f362ee8-c3a5-43fb-825b-77120f201388",
   "metadata": {},
   "outputs": [],
   "source": []
  },
  {
   "cell_type": "code",
   "execution_count": null,
   "id": "16f921ee-b406-4a52-90e0-3979ce2b1e1d",
   "metadata": {},
   "outputs": [],
   "source": []
  },
  {
   "cell_type": "code",
   "execution_count": null,
   "id": "903122cd-a875-4109-b399-99ea28011a79",
   "metadata": {},
   "outputs": [],
   "source": []
  },
  {
   "cell_type": "code",
   "execution_count": null,
   "id": "32b03027-06a8-4700-82ad-ea573f930cba",
   "metadata": {},
   "outputs": [],
   "source": []
  },
  {
   "cell_type": "code",
   "execution_count": null,
   "id": "0c079017-1407-48e2-96f2-e8f8b0f31485",
   "metadata": {},
   "outputs": [],
   "source": []
  },
  {
   "cell_type": "code",
   "execution_count": null,
   "id": "cbc19b5c-36f9-41a3-9bc1-b37823fff86d",
   "metadata": {},
   "outputs": [],
   "source": []
  },
  {
   "cell_type": "code",
   "execution_count": null,
   "id": "4cc1e2a2-8dab-40e6-9289-431c49a4d5ca",
   "metadata": {},
   "outputs": [],
   "source": []
  },
  {
   "cell_type": "code",
   "execution_count": null,
   "id": "e972aa74-1167-41af-8cb2-58f9ffee52d6",
   "metadata": {},
   "outputs": [],
   "source": []
  },
  {
   "cell_type": "code",
   "execution_count": null,
   "id": "aa7cdd09-ce1e-452d-bdc2-c78c0c53bdcc",
   "metadata": {},
   "outputs": [],
   "source": []
  },
  {
   "cell_type": "code",
   "execution_count": null,
   "id": "eb3c28ca-948e-47f8-abd3-1f4a47da702e",
   "metadata": {},
   "outputs": [],
   "source": []
  },
  {
   "cell_type": "code",
   "execution_count": null,
   "id": "65fd6f0f-acc1-45ea-8f13-3c502c438c13",
   "metadata": {},
   "outputs": [],
   "source": []
  },
  {
   "cell_type": "code",
   "execution_count": null,
   "id": "1ffd3e34-c3aa-4ab1-9e8d-7e6e2c9c3771",
   "metadata": {},
   "outputs": [],
   "source": []
  },
  {
   "cell_type": "code",
   "execution_count": null,
   "id": "3f73cb66-934a-4dd3-b92c-0056ed6269cb",
   "metadata": {},
   "outputs": [],
   "source": []
  },
  {
   "cell_type": "code",
   "execution_count": null,
   "id": "33201500-c363-44ed-9a87-860ab8d95634",
   "metadata": {},
   "outputs": [],
   "source": []
  },
  {
   "cell_type": "code",
   "execution_count": null,
   "id": "a96fab03-b5fa-4802-9f93-1c7619bbbab1",
   "metadata": {},
   "outputs": [],
   "source": []
  },
  {
   "cell_type": "code",
   "execution_count": null,
   "id": "a846595b-9bc3-4f31-a152-9b82a4aa040b",
   "metadata": {},
   "outputs": [],
   "source": []
  },
  {
   "cell_type": "code",
   "execution_count": null,
   "id": "fb4f465c-2a9b-4ddc-96f2-ce9598cc4dd0",
   "metadata": {},
   "outputs": [],
   "source": []
  },
  {
   "cell_type": "code",
   "execution_count": null,
   "id": "9611d91d-4c03-4ab8-a895-6ba54469488b",
   "metadata": {},
   "outputs": [],
   "source": []
  },
  {
   "cell_type": "code",
   "execution_count": null,
   "id": "e6808af4-e57e-4a35-b1e8-7f5af4aac9bc",
   "metadata": {},
   "outputs": [],
   "source": []
  },
  {
   "cell_type": "code",
   "execution_count": null,
   "id": "65557ad4-88e5-413e-bd9e-3378e356b67b",
   "metadata": {},
   "outputs": [],
   "source": []
  },
  {
   "cell_type": "code",
   "execution_count": null,
   "id": "d9d97d3c-db6c-4206-9170-286983dc90c1",
   "metadata": {},
   "outputs": [],
   "source": []
  },
  {
   "cell_type": "code",
   "execution_count": null,
   "id": "4bede0ff-1556-4772-b69d-cfc5471cf818",
   "metadata": {},
   "outputs": [],
   "source": []
  },
  {
   "cell_type": "code",
   "execution_count": null,
   "id": "d991b3cd-138e-45ee-9ec0-f8dd95a3afe4",
   "metadata": {},
   "outputs": [],
   "source": []
  },
  {
   "cell_type": "code",
   "execution_count": null,
   "id": "f147188f-85bb-4778-8c91-bb77473c127e",
   "metadata": {},
   "outputs": [],
   "source": []
  },
  {
   "cell_type": "code",
   "execution_count": null,
   "id": "7fa17677-38bd-4cd9-8fc8-c3cc884168ec",
   "metadata": {},
   "outputs": [],
   "source": []
  },
  {
   "cell_type": "code",
   "execution_count": null,
   "id": "1c8dc611-bbd9-4157-b3d0-94bd5b67fa91",
   "metadata": {},
   "outputs": [],
   "source": []
  },
  {
   "cell_type": "code",
   "execution_count": null,
   "id": "961ea1f3-08d8-4264-b43e-1c390df63fc5",
   "metadata": {},
   "outputs": [],
   "source": []
  },
  {
   "cell_type": "code",
   "execution_count": null,
   "id": "8875773e-d78d-409a-9d61-8e0858b54f6b",
   "metadata": {},
   "outputs": [],
   "source": []
  },
  {
   "cell_type": "code",
   "execution_count": null,
   "id": "9a9f98ac-1bf8-4f84-8020-cf6e912fd404",
   "metadata": {},
   "outputs": [],
   "source": []
  },
  {
   "cell_type": "code",
   "execution_count": null,
   "id": "a3cbff0c-7d0f-4a4b-aaa7-e2f867bab23b",
   "metadata": {},
   "outputs": [],
   "source": []
  },
  {
   "cell_type": "code",
   "execution_count": null,
   "id": "f8ba93cf-2a13-4173-b6aa-e7042328a4d9",
   "metadata": {},
   "outputs": [],
   "source": []
  },
  {
   "cell_type": "code",
   "execution_count": null,
   "id": "172b2166-8b7a-49dc-aaa8-01efc1c6f0a3",
   "metadata": {},
   "outputs": [],
   "source": []
  },
  {
   "cell_type": "code",
   "execution_count": null,
   "id": "a9f11d46-2efa-493b-8fea-8bf3fdcb7055",
   "metadata": {},
   "outputs": [],
   "source": []
  },
  {
   "cell_type": "code",
   "execution_count": null,
   "id": "942b5c41-e556-4954-ac5e-3a8b5c6a4ac5",
   "metadata": {},
   "outputs": [],
   "source": []
  },
  {
   "cell_type": "code",
   "execution_count": null,
   "id": "4dd3ac03-2dce-4ffd-bc3d-0632760fdbe3",
   "metadata": {},
   "outputs": [],
   "source": []
  },
  {
   "cell_type": "code",
   "execution_count": null,
   "id": "9e193fbb-6400-48f4-9c68-59940c57d341",
   "metadata": {},
   "outputs": [],
   "source": []
  },
  {
   "cell_type": "code",
   "execution_count": null,
   "id": "017ffbd0-348c-4b81-acda-f01270314810",
   "metadata": {},
   "outputs": [],
   "source": []
  },
  {
   "cell_type": "code",
   "execution_count": null,
   "id": "059a99fa-7469-4f49-befd-221ec1a3531b",
   "metadata": {},
   "outputs": [],
   "source": []
  },
  {
   "cell_type": "code",
   "execution_count": null,
   "id": "d8f4c510-b18b-43f1-9167-2a51e46128db",
   "metadata": {},
   "outputs": [],
   "source": []
  },
  {
   "cell_type": "code",
   "execution_count": null,
   "id": "98c2d2e5-4f4c-4f75-92c5-1237b863de7e",
   "metadata": {},
   "outputs": [],
   "source": []
  },
  {
   "cell_type": "code",
   "execution_count": null,
   "id": "5fdc0dbe-626a-498b-b5a0-cf7a489f5720",
   "metadata": {},
   "outputs": [],
   "source": []
  },
  {
   "cell_type": "code",
   "execution_count": null,
   "id": "7929430f-e5ed-4ed7-9228-a96053ba9da4",
   "metadata": {},
   "outputs": [],
   "source": []
  },
  {
   "cell_type": "code",
   "execution_count": null,
   "id": "ec11b93c-a3e7-47d9-b12f-4845d0bdbed5",
   "metadata": {},
   "outputs": [],
   "source": []
  },
  {
   "cell_type": "code",
   "execution_count": null,
   "id": "13576c0d-9219-44e1-b6ea-9338a1dc238c",
   "metadata": {},
   "outputs": [],
   "source": []
  },
  {
   "cell_type": "code",
   "execution_count": null,
   "id": "20fe5669-a298-425f-911e-4f7ef3646e2b",
   "metadata": {},
   "outputs": [],
   "source": []
  }
 ],
 "metadata": {
  "kernelspec": {
   "display_name": "Python 3 (ipykernel)",
   "language": "python",
   "name": "python3"
  },
  "language_info": {
   "codemirror_mode": {
    "name": "ipython",
    "version": 3
   },
   "file_extension": ".py",
   "mimetype": "text/x-python",
   "name": "python",
   "nbconvert_exporter": "python",
   "pygments_lexer": "ipython3",
   "version": "3.12.4"
  }
 },
 "nbformat": 4,
 "nbformat_minor": 5
}
