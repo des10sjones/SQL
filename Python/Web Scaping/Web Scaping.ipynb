{
 "cells": [
  {
   "cell_type": "markdown",
   "id": "1d837dfb-5a2d-49fb-8d04-73e950ff299c",
   "metadata": {},
   "source": [
    "# HTML and Inspecting a Web Page\n",
    "\n",
    "                <html>\n",
    "                \n",
    "                <head>\n",
    "                    <title>\n",
    "                        My First Web Page\n",
    "                    </title>\n",
    "                </head>\n",
    "                \n",
    "                \n",
    "                <body>\n",
    "                    <h1>\n",
    "                        My First Web Page\n",
    "                    </h1>\n",
    "                \n",
    "                    <p><b> Hello World Wide Web !</b></p>\n",
    "                    <p><i> Hello World Wide Web !</i></p>\n",
    "                    <p><u> Hello World Wide Web !</u></p>\n",
    "                    <p> This is my first web page</p>\n",
    "                    <p>HTML tags can give <b><i>various<i></b>\n",
    "                        <u> looks and format</u> to the content\n",
    "                    </p>\n",
    "                </body>\n",
    "                </html>\n",
    "https://www.scrapethissite.com/pages/forms/\n"
   ]
  },
  {
   "cell_type": "code",
   "execution_count": null,
   "id": "ad47ab59-9dc8-4a24-97a9-b216e6a66fc7",
   "metadata": {},
   "outputs": [],
   "source": []
  },
  {
   "cell_type": "code",
   "execution_count": null,
   "id": "56ef8b72-07f5-4895-8eff-8d861a72b86c",
   "metadata": {},
   "outputs": [],
   "source": []
  }
 ],
 "metadata": {
  "kernelspec": {
   "display_name": "Python 3 (ipykernel)",
   "language": "python",
   "name": "python3"
  },
  "language_info": {
   "codemirror_mode": {
    "name": "ipython",
    "version": 3
   },
   "file_extension": ".py",
   "mimetype": "text/x-python",
   "name": "python",
   "nbconvert_exporter": "python",
   "pygments_lexer": "ipython3",
   "version": "3.12.4"
  }
 },
 "nbformat": 4,
 "nbformat_minor": 5
}
