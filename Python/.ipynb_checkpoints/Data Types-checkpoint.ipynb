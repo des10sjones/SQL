{
 "cells": [
  {
   "cell_type": "markdown",
   "id": "a178d236-af4c-4d14-aac3-469d236fd0a9",
   "metadata": {},
   "source": [
    "# Data Types\n"
   ]
  },
  {
   "cell_type": "code",
   "execution_count": 3,
   "id": "43288b14-645d-4786-b83c-05174d6f93cb",
   "metadata": {},
   "outputs": [
    {
     "data": {
      "text/plain": [
       "int"
      ]
     },
     "execution_count": 3,
     "metadata": {},
     "output_type": "execute_result"
    }
   ],
   "source": [
    "type(-12 + 100)\n",
    "\n"
   ]
  },
  {
   "cell_type": "code",
   "execution_count": 4,
   "id": "50336f1c-ffbe-4d1a-bc67-601aa78e714f",
   "metadata": {},
   "outputs": [
    {
     "data": {
      "text/plain": [
       "float"
      ]
     },
     "execution_count": 4,
     "metadata": {},
     "output_type": "execute_result"
    }
   ],
   "source": [
    "type(-12 + 10.25)"
   ]
  },
  {
   "cell_type": "code",
   "execution_count": 5,
   "id": "6d12b5bd-eac2-4589-968e-cae1ae0dd53e",
   "metadata": {},
   "outputs": [
    {
     "data": {
      "text/plain": [
       "complex"
      ]
     },
     "execution_count": 5,
     "metadata": {},
     "output_type": "execute_result"
    }
   ],
   "source": [
    "type(-12 + 3j)"
   ]
  },
  {
   "cell_type": "code",
   "execution_count": 7,
   "id": "532d9f54-a583-4117-9a17-ad4c172d4ae3",
   "metadata": {},
   "outputs": [
    {
     "data": {
      "text/plain": [
       "bool"
      ]
     },
     "execution_count": 7,
     "metadata": {},
     "output_type": "execute_result"
    }
   ],
   "source": [
    "#Boolean\n",
    "\n",
    "type(1>5)"
   ]
  },
  {
   "cell_type": "code",
   "execution_count": 8,
   "id": "93a5bf4d-f90d-482b-bdc3-53253d67dd8b",
   "metadata": {},
   "outputs": [
    {
     "data": {
      "text/plain": [
       "'Single'"
      ]
     },
     "execution_count": 8,
     "metadata": {},
     "output_type": "execute_result"
    }
   ],
   "source": [
    "#Strings\n",
    "\n",
    "'Single'"
   ]
  },
  {
   "cell_type": "code",
   "execution_count": 10,
   "id": "f40a81a2-1a37-458e-96ff-93951a56bbf7",
   "metadata": {},
   "outputs": [
    {
     "data": {
      "text/plain": [
       "'Double Quote'"
      ]
     },
     "execution_count": 10,
     "metadata": {},
     "output_type": "execute_result"
    }
   ],
   "source": [
    "\"Double Quote\""
   ]
  },
  {
   "cell_type": "code",
   "execution_count": 13,
   "id": "57c7e29b-0d1b-4abf-b95c-daaffbec1fb4",
   "metadata": {},
   "outputs": [],
   "source": [
    "multiline = \"\"\"\n",
    "The ice cream disappered,\n",
    "my longing for swaets,\n",
    "upon this diet ,\n",
    "loooook away\n",
    "\"\"\""
   ]
  },
  {
   "cell_type": "code",
   "execution_count": 14,
   "id": "697361e0-cc60-4375-be2f-484c1dae2aa8",
   "metadata": {},
   "outputs": [
    {
     "name": "stdout",
     "output_type": "stream",
     "text": [
      "\n",
      "The ice cream disappered,\n",
      "my longing for swaets,\n",
      "upon this diet ,\n",
      "loooook away\n",
      "\n"
     ]
    }
   ],
   "source": [
    "print(multiline)"
   ]
  },
  {
   "cell_type": "code",
   "execution_count": 15,
   "id": "d4dafc25-6c4a-4c88-87bf-c6b252e0fe48",
   "metadata": {},
   "outputs": [],
   "source": [
    "a = 'Hello World'\n"
   ]
  },
  {
   "cell_type": "code",
   "execution_count": 18,
   "id": "f5c7e80d-0f5f-4b7b-9421-4f37b826f838",
   "metadata": {},
   "outputs": [
    {
     "name": "stdout",
     "output_type": "stream",
     "text": [
      "ello\n"
     ]
    }
   ],
   "source": [
    "print(a[1:5])"
   ]
  },
  {
   "cell_type": "code",
   "execution_count": 19,
   "id": "6fe3aa16-7b31-4a1a-9f60-d3eb66964bc3",
   "metadata": {},
   "outputs": [
    {
     "data": {
      "text/plain": [
       "[1, 2, 3]"
      ]
     },
     "execution_count": 19,
     "metadata": {},
     "output_type": "execute_result"
    }
   ],
   "source": [
    "#list\n",
    "\n",
    "[1,2,3]"
   ]
  },
  {
   "cell_type": "code",
   "execution_count": 21,
   "id": "fb666396-db0b-4e5d-bad4-58d4ad789b14",
   "metadata": {},
   "outputs": [
    {
     "data": {
      "text/plain": [
       "['cookie doough', 'strawberry', 'chocolate']"
      ]
     },
     "execution_count": 21,
     "metadata": {},
     "output_type": "execute_result"
    }
   ],
   "source": [
    "['cookie doough','strawberry','chocolate']"
   ]
  },
  {
   "cell_type": "code",
   "execution_count": 22,
   "id": "569bbc48-38c6-4b96-ad7c-1620a203db0b",
   "metadata": {},
   "outputs": [
    {
     "data": {
      "text/plain": [
       "['Vanilla', 3, ['Scoops', 'Spoon'], True]"
      ]
     },
     "execution_count": 22,
     "metadata": {},
     "output_type": "execute_result"
    }
   ],
   "source": [
    "['Vanilla',3,['Scoops','Spoon'], True]"
   ]
  },
  {
   "cell_type": "code",
   "execution_count": 22,
   "id": "7be80f2e-a8c0-4ba9-a93e-e7a2f09f7529",
   "metadata": {},
   "outputs": [
    {
     "data": {
      "text/plain": [
       "['Vanilla', 3, ['Scoops', 'Spoon'], True]"
      ]
     },
     "execution_count": 22,
     "metadata": {},
     "output_type": "execute_result"
    }
   ],
   "source": [
    "['Vanilla',3,['Scoops','Spoon'], True]"
   ]
  },
  {
   "cell_type": "code",
   "execution_count": 23,
   "id": "43ff0706-e072-4dda-9b74-b999ac47ef72",
   "metadata": {},
   "outputs": [],
   "source": [
    "ice_cream = ['cookie doough','strawberry','chocolate']\n",
    "\n",
    "ice_cream.append('Salted Caramel')"
   ]
  },
  {
   "cell_type": "code",
   "execution_count": 24,
   "id": "a1773318-42a3-439c-949f-7e8c10d82c9f",
   "metadata": {},
   "outputs": [
    {
     "name": "stdout",
     "output_type": "stream",
     "text": [
      "['cookie doough', 'strawberry', 'chocolate', 'Salted Caramel']\n"
     ]
    }
   ],
   "source": [
    "print(ice_cream)\n"
   ]
  },
  {
   "cell_type": "code",
   "execution_count": 25,
   "id": "e27f871e-c640-4799-9ea6-59eff8209590",
   "metadata": {},
   "outputs": [],
   "source": [
    "nest_list = ['Vanilla',3,['Scoops','Spoon'], True]\n",
    "\n"
   ]
  },
  {
   "cell_type": "code",
   "execution_count": 28,
   "id": "5f344309-bc7c-4a42-81a6-0e259cd58d6b",
   "metadata": {},
   "outputs": [
    {
     "data": {
      "text/plain": [
       "'Scoops'"
      ]
     },
     "execution_count": 28,
     "metadata": {},
     "output_type": "execute_result"
    }
   ],
   "source": [
    "nest_list[2][0]\n"
   ]
  },
  {
   "cell_type": "code",
   "execution_count": 30,
   "id": "f41d8fcf-26b2-4552-8e05-f3792fe45892",
   "metadata": {},
   "outputs": [],
   "source": [
    "#Tuples\n",
    "\n",
    "tuple_scoops = (1,2,3,2,1) "
   ]
  },
  {
   "cell_type": "code",
   "execution_count": 31,
   "id": "0e1166ab-ea68-43bf-8524-984d116e8842",
   "metadata": {},
   "outputs": [
    {
     "data": {
      "text/plain": [
       "1"
      ]
     },
     "execution_count": 31,
     "metadata": {},
     "output_type": "execute_result"
    }
   ],
   "source": [
    "tuple_scoops[0]"
   ]
  },
  {
   "cell_type": "code",
   "execution_count": 32,
   "id": "8b4588a3-b81b-4053-865a-463c413c9a60",
   "metadata": {},
   "outputs": [],
   "source": [
    "# Sets\n",
    "\n",
    "daily_pints = {1,2,3}"
   ]
  },
  {
   "cell_type": "code",
   "execution_count": 35,
   "id": "ea8e463b-a925-494d-b22b-d5bba08f3eb0",
   "metadata": {},
   "outputs": [],
   "source": [
    "daily_pints_log = {1,2,3,3,3,4,4,5,5,4,5,4,1,2,5,77,4,5,78,41,1,54}"
   ]
  },
  {
   "cell_type": "code",
   "execution_count": 34,
   "id": "6f2c7665-c0b2-43a8-839b-b0cd711a8d32",
   "metadata": {},
   "outputs": [],
   "source": [
    "wifes_daily_pints_log = {6,6,5,5,4,54,4,52,5,47,45,4,1,54,744,54,47,7,4,11}"
   ]
  },
  {
   "cell_type": "code",
   "execution_count": 36,
   "id": "0c6a4cdc-e5b6-4cfb-a4a2-6f83d22cbb78",
   "metadata": {},
   "outputs": [
    {
     "name": "stdout",
     "output_type": "stream",
     "text": [
      "{1, 2, 3, 4, 5, 6, 7, 11, 77, 78, 744, 41, 45, 47, 52, 54}\n"
     ]
    }
   ],
   "source": [
    "print(daily_pints_log | wifes_daily_pints_log)"
   ]
  },
  {
   "cell_type": "code",
   "execution_count": 37,
   "id": "0f643ed5-d9a1-48d3-bc7e-30980046fdf0",
   "metadata": {},
   "outputs": [
    {
     "name": "stdout",
     "output_type": "stream",
     "text": [
      "{1, 4, 5, 54}\n"
     ]
    }
   ],
   "source": [
    "print(daily_pints_log & wifes_daily_pints_log)"
   ]
  },
  {
   "cell_type": "code",
   "execution_count": 38,
   "id": "cf41cf40-7410-4050-8492-2a573bf45836",
   "metadata": {},
   "outputs": [
    {
     "name": "stdout",
     "output_type": "stream",
     "text": [
      "{2, 3, 41, 77, 78}\n"
     ]
    }
   ],
   "source": [
    "print(daily_pints_log - wifes_daily_pints_log)"
   ]
  },
  {
   "cell_type": "code",
   "execution_count": 39,
   "id": "42bce1a3-fc7e-426a-83f3-68b1c3119d94",
   "metadata": {},
   "outputs": [
    {
     "name": "stdout",
     "output_type": "stream",
     "text": [
      "{2, 3, 6, 7, 744, 41, 11, 45, 77, 47, 78, 52}\n"
     ]
    }
   ],
   "source": [
    "print(daily_pints_log ^ wifes_daily_pints_log)"
   ]
  },
  {
   "cell_type": "code",
   "execution_count": 41,
   "id": "4db6fa8d-9843-4f55-8747-e8bb373db6d2",
   "metadata": {},
   "outputs": [],
   "source": [
    "#DictionNaires\n",
    "#Key/Value Pair\n",
    "\n",
    "dictionary_cream = {\n",
    "    'name': 'Destin Jones',\n",
    "    'week intake': 5,\n",
    "    'Favorite Ice Cream': ['Choclate','Vanilla','Cotton Candy']\n",
    "    \n",
    "}\n"
   ]
  },
  {
   "cell_type": "code",
   "execution_count": 43,
   "id": "f368ab0e-7cc5-44ff-a605-a1e5f881a94e",
   "metadata": {},
   "outputs": [
    {
     "name": "stdout",
     "output_type": "stream",
     "text": [
      "{'name': 'Destin Jones', 'week intake': 5, 'Favorite Ice Cream': ['Choclate', 'Vanilla', 'Cotton Candy']}\n"
     ]
    }
   ],
   "source": [
    "print(dictionary_cream)"
   ]
  },
  {
   "cell_type": "code",
   "execution_count": 47,
   "id": "81fef64e-89cb-4ff3-bebd-bf25e875dd5d",
   "metadata": {},
   "outputs": [
    {
     "data": {
      "text/plain": [
       "dict_values(['Destin Jones', 5, ['Choclate', 'Vanilla', 'Cotton Candy']])"
      ]
     },
     "execution_count": 47,
     "metadata": {},
     "output_type": "execute_result"
    }
   ],
   "source": [
    "dictionary_cream.values()\n"
   ]
  },
  {
   "cell_type": "code",
   "execution_count": 48,
   "id": "69b33ac0-aecb-4ffe-9292-3c157b4a04e3",
   "metadata": {},
   "outputs": [
    {
     "data": {
      "text/plain": [
       "dict_keys(['name', 'week intake', 'Favorite Ice Cream'])"
      ]
     },
     "execution_count": 48,
     "metadata": {},
     "output_type": "execute_result"
    }
   ],
   "source": [
    "dictionary_cream.keys()"
   ]
  },
  {
   "cell_type": "code",
   "execution_count": 50,
   "id": "f29d29b2-dd74-4c7f-8596-e78d354a3913",
   "metadata": {},
   "outputs": [
    {
     "data": {
      "text/plain": [
       "dict_items([('name', 'Destin Jones'), ('week intake', 5), ('Favorite Ice Cream', ['Choclate', 'Vanilla', 'Cotton Candy'])])"
      ]
     },
     "execution_count": 50,
     "metadata": {},
     "output_type": "execute_result"
    }
   ],
   "source": [
    "dictionary_cream.items()"
   ]
  },
  {
   "cell_type": "code",
   "execution_count": 51,
   "id": "a33c8e46-8a3c-431e-9ba8-40f7cd1296bf",
   "metadata": {},
   "outputs": [
    {
     "data": {
      "text/plain": [
       "'Destin Jones'"
      ]
     },
     "execution_count": 51,
     "metadata": {},
     "output_type": "execute_result"
    }
   ],
   "source": [
    "dictionary_cream['name']"
   ]
  },
  {
   "cell_type": "code",
   "execution_count": null,
   "id": "afd5853a-2796-4118-88c4-b23a7ffb95c5",
   "metadata": {},
   "outputs": [],
   "source": []
  },
  {
   "cell_type": "code",
   "execution_count": null,
   "id": "9a546b82-5968-4fea-bcb6-46669068f774",
   "metadata": {},
   "outputs": [],
   "source": []
  },
  {
   "cell_type": "code",
   "execution_count": null,
   "id": "748df0de-f64a-45e8-8644-38c504a710b5",
   "metadata": {},
   "outputs": [],
   "source": []
  },
  {
   "cell_type": "code",
   "execution_count": null,
   "id": "a5fc9668-e3f8-4928-969f-e70bc6107ce2",
   "metadata": {},
   "outputs": [],
   "source": []
  },
  {
   "cell_type": "code",
   "execution_count": null,
   "id": "927cc648-ea68-4ece-abd5-0d5fadc91662",
   "metadata": {},
   "outputs": [],
   "source": []
  },
  {
   "cell_type": "code",
   "execution_count": null,
   "id": "429b8044-2a34-4be6-8b23-db53cbab0a33",
   "metadata": {},
   "outputs": [],
   "source": []
  }
 ],
 "metadata": {
  "kernelspec": {
   "display_name": "Python 3 (ipykernel)",
   "language": "python",
   "name": "python3"
  },
  "language_info": {
   "codemirror_mode": {
    "name": "ipython",
    "version": 3
   },
   "file_extension": ".py",
   "mimetype": "text/x-python",
   "name": "python",
   "nbconvert_exporter": "python",
   "pygments_lexer": "ipython3",
   "version": "3.12.7"
  }
 },
 "nbformat": 4,
 "nbformat_minor": 5
}
