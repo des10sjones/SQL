{
 "cells": [
  {
   "cell_type": "markdown",
   "id": "55880db1-0b06-4d37-bf04-188f1e82a1e5",
   "metadata": {},
   "source": [
    "# Comparison Operators"
   ]
  },
  {
   "cell_type": "code",
   "execution_count": 1,
   "id": "f7ae9a34-63a6-4d8d-86c6-85d23c12b7bf",
   "metadata": {},
   "outputs": [
    {
     "data": {
      "text/plain": [
       "False"
      ]
     },
     "execution_count": 1,
     "metadata": {},
     "output_type": "execute_result"
    }
   ],
   "source": [
    "10 == 50\n"
   ]
  },
  {
   "cell_type": "code",
   "execution_count": 2,
   "id": "5bbb86ba-ba75-4e8b-82eb-c9b40b13d031",
   "metadata": {},
   "outputs": [
    {
     "data": {
      "text/plain": [
       "True"
      ]
     },
     "execution_count": 2,
     "metadata": {},
     "output_type": "execute_result"
    }
   ],
   "source": [
    "10 != 50\n"
   ]
  },
  {
   "cell_type": "code",
   "execution_count": 3,
   "id": "34f142c1-8bf2-491b-9c8b-2efc2f26f9e0",
   "metadata": {},
   "outputs": [
    {
     "data": {
      "text/plain": [
       "True"
      ]
     },
     "execution_count": 3,
     "metadata": {},
     "output_type": "execute_result"
    }
   ],
   "source": [
    "'Vanilla' == 'Vanilla'"
   ]
  },
  {
   "cell_type": "markdown",
   "id": "32062d26-6bf5-41fa-bd85-229449c8f5bc",
   "metadata": {},
   "source": [
    "# Logical Operators"
   ]
  },
  {
   "cell_type": "code",
   "execution_count": 5,
   "id": "de47ee28-1007-45f9-b4c1-b8eb7917b46c",
   "metadata": {},
   "outputs": [
    {
     "data": {
      "text/plain": [
       "True"
      ]
     },
     "execution_count": 5,
     "metadata": {},
     "output_type": "execute_result"
    }
   ],
   "source": [
    "(70 > 50 ) and (50> 10)"
   ]
  },
  {
   "cell_type": "code",
   "execution_count": 7,
   "id": "21d473a9-8c4a-4052-9b14-126fd8170df6",
   "metadata": {},
   "outputs": [
    {
     "data": {
      "text/plain": [
       "True"
      ]
     },
     "execution_count": 7,
     "metadata": {},
     "output_type": "execute_result"
    }
   ],
   "source": [
    "(70 > 50 ) or (50> 10)"
   ]
  },
  {
   "cell_type": "code",
   "execution_count": 8,
   "id": "bad369d7-3aed-4a23-aaa3-4f0ab5d9c940",
   "metadata": {},
   "outputs": [
    {
     "data": {
      "text/plain": [
       "True"
      ]
     },
     "execution_count": 8,
     "metadata": {},
     "output_type": "execute_result"
    }
   ],
   "source": [
    "('Vanilla' > 'Chocolate') and (50 > 10)"
   ]
  },
  {
   "cell_type": "code",
   "execution_count": 9,
   "id": "a31a38ba-a804-4184-89ac-851f3882c944",
   "metadata": {},
   "outputs": [
    {
     "data": {
      "text/plain": [
       "False"
      ]
     },
     "execution_count": 9,
     "metadata": {},
     "output_type": "execute_result"
    }
   ],
   "source": [
    "not(50 > 10)"
   ]
  },
  {
   "cell_type": "markdown",
   "id": "cb1a0ab5-7760-42a0-a626-a7fa028b1ba7",
   "metadata": {},
   "source": [
    "# Membership Operators\n"
   ]
  },
  {
   "cell_type": "code",
   "execution_count": 10,
   "id": "3832931c-a560-4b8c-880d-43b21ac4a17f",
   "metadata": {},
   "outputs": [
    {
     "data": {
      "text/plain": [
       "True"
      ]
     },
     "execution_count": 10,
     "metadata": {},
     "output_type": "execute_result"
    }
   ],
   "source": [
    "ice_cream = ' I love chocolate Ice ceream'\n",
    "\n",
    "'love' in ice_cream"
   ]
  },
  {
   "cell_type": "code",
   "execution_count": 12,
   "id": "3ff767c4-7495-400a-b2fc-1b8d89a79a3a",
   "metadata": {},
   "outputs": [
    {
     "data": {
      "text/plain": [
       "False"
      ]
     },
     "execution_count": 12,
     "metadata": {},
     "output_type": "execute_result"
    }
   ],
   "source": [
    "scoop = [1,2,2,4,52,4,1,2,8]\n",
    "\n",
    "wanted_scoops = 7\n",
    "\n",
    "wanted_scoops in scoop\n"
   ]
  },
  {
   "cell_type": "code",
   "execution_count": 13,
   "id": "ea10871c-5bbe-4f7b-a821-ff131df96aec",
   "metadata": {},
   "outputs": [
    {
     "data": {
      "text/plain": [
       "True"
      ]
     },
     "execution_count": 13,
     "metadata": {},
     "output_type": "execute_result"
    }
   ],
   "source": [
    "wanted_scoops not in scoop"
   ]
  },
  {
   "cell_type": "code",
   "execution_count": null,
   "id": "38327fd1-8a3a-47b7-99f6-8a81cbad492e",
   "metadata": {},
   "outputs": [],
   "source": []
  },
  {
   "cell_type": "code",
   "execution_count": null,
   "id": "0c0ea562-91db-4da8-9127-fbfb3677f22c",
   "metadata": {},
   "outputs": [],
   "source": []
  },
  {
   "cell_type": "code",
   "execution_count": null,
   "id": "d573ea97-be17-4c80-832b-5115498d089a",
   "metadata": {},
   "outputs": [],
   "source": []
  },
  {
   "cell_type": "code",
   "execution_count": null,
   "id": "d2ff4d98-e28c-48e0-939c-e28878021584",
   "metadata": {},
   "outputs": [],
   "source": []
  },
  {
   "cell_type": "code",
   "execution_count": null,
   "id": "be90d3f7-3a02-4451-ad3a-cbb4b3a0e317",
   "metadata": {},
   "outputs": [],
   "source": []
  },
  {
   "cell_type": "code",
   "execution_count": null,
   "id": "abb85520-8349-46c1-8421-cadb51799e74",
   "metadata": {},
   "outputs": [],
   "source": []
  },
  {
   "cell_type": "code",
   "execution_count": null,
   "id": "3006680a-1df2-418b-8acb-53c8d74681a5",
   "metadata": {},
   "outputs": [],
   "source": []
  },
  {
   "cell_type": "code",
   "execution_count": null,
   "id": "a5f2a000-4dd6-4164-b6e7-14f3a12fcb40",
   "metadata": {},
   "outputs": [],
   "source": []
  },
  {
   "cell_type": "code",
   "execution_count": null,
   "id": "0cc4b7b4-c311-48c2-93e6-8c8a568a7eea",
   "metadata": {},
   "outputs": [],
   "source": []
  },
  {
   "cell_type": "code",
   "execution_count": null,
   "id": "4a08d220-dc3c-4031-9906-4bfd86f3b13d",
   "metadata": {},
   "outputs": [],
   "source": []
  },
  {
   "cell_type": "code",
   "execution_count": null,
   "id": "349a1ab0-5f0c-4bd8-8e6e-90b6df62f223",
   "metadata": {},
   "outputs": [],
   "source": []
  },
  {
   "cell_type": "code",
   "execution_count": null,
   "id": "e24e746d-f5ff-4ef6-964e-095688ae8d1f",
   "metadata": {},
   "outputs": [],
   "source": []
  },
  {
   "cell_type": "code",
   "execution_count": null,
   "id": "c9c69f0c-e072-4ef2-8012-046cf8b7c29a",
   "metadata": {},
   "outputs": [],
   "source": []
  }
 ],
 "metadata": {
  "kernelspec": {
   "display_name": "Python 3 (ipykernel)",
   "language": "python",
   "name": "python3"
  },
  "language_info": {
   "codemirror_mode": {
    "name": "ipython",
    "version": 3
   },
   "file_extension": ".py",
   "mimetype": "text/x-python",
   "name": "python",
   "nbconvert_exporter": "python",
   "pygments_lexer": "ipython3",
   "version": "3.12.7"
  }
 },
 "nbformat": 4,
 "nbformat_minor": 5
}
