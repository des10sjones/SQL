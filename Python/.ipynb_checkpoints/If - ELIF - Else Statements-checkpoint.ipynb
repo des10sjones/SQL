{
 "cells": [
  {
   "cell_type": "markdown",
   "id": "3c8c7c7f-b9d6-4f14-8bd1-b585130ba5db",
   "metadata": {},
   "source": [
    "# If - Elif - Else Statements "
   ]
  },
  {
   "cell_type": "code",
   "execution_count": 2,
   "id": "de36b3d3-ce76-4540-9332-2725f5e2a188",
   "metadata": {},
   "outputs": [
    {
     "name": "stdout",
     "output_type": "stream",
     "text": [
      "It worked\n"
     ]
    }
   ],
   "source": [
    "if 5 > 1:\n",
    "    print('It worked')"
   ]
  },
  {
   "cell_type": "code",
   "execution_count": 3,
   "id": "328bd38b-ef24-4e97-b339-4cfb9659123a",
   "metadata": {},
   "outputs": [
    {
     "name": "stdout",
     "output_type": "stream",
     "text": [
      "It worked\n"
     ]
    }
   ],
   "source": [
    "if 5 > 1:\n",
    "    print('It worked')\n",
    "else:\n",
    "    print('It did not work..')"
   ]
  },
  {
   "cell_type": "code",
   "execution_count": null,
   "id": "8e013c7d-6f28-4c82-8cbf-01d87ec80945",
   "metadata": {},
   "outputs": [],
   "source": []
  }
 ],
 "metadata": {
  "kernelspec": {
   "display_name": "Python 3 (ipykernel)",
   "language": "python",
   "name": "python3"
  },
  "language_info": {
   "codemirror_mode": {
    "name": "ipython",
    "version": 3
   },
   "file_extension": ".py",
   "mimetype": "text/x-python",
   "name": "python",
   "nbconvert_exporter": "python",
   "pygments_lexer": "ipython3",
   "version": "3.12.7"
  }
 },
 "nbformat": 4,
 "nbformat_minor": 5
}
